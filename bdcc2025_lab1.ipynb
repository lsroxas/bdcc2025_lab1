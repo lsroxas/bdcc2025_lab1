{
 "cells": [
  {
   "cell_type": "markdown",
   "id": "586b0510-782f-4926-a89c-b5fb910af28e",
   "metadata": {},
   "source": [
    "# Analyzing OSS Projects under the Apache Software Foundation using GH Archive Data\n",
    "\n",
    "This notebook aims to analyze the open-source software (OSS) projects using the GH Archive dataset. The goal is to provide insights that can help in making decisions regarding the adoption and exit timing of OSS projects managed by the Apache Software Foundation.\n",
    "\n",
    "The scope of the analysis will be limited to the following aspects:\n",
    "1. **Project Owner** - Only projects under the `apache` organization will be considered.\n",
    "2. **Time Period** - The analysis will only include data from the year 2020 to 2025.\n"
   ]
  },
  {
   "cell_type": "markdown",
   "id": "6ef622a7-bca2-4859-9cea-0203246145db",
   "metadata": {},
   "source": [
    "## Data Preparation and Loading\n",
    "\n",
    "Data relevant to the analysis was queried from BigQuery's `gharchive` public dataset. The results of the query was exported as parquet files on a Google Cloud Storage bucket and copied over the the `/home/ubuntu/lab1/data` folder of the EC2 instance used by the project. "
   ]
  },
  {
   "cell_type": "markdown",
   "id": "368bbbe0-25ae-4041-b068-9fa1aab5a591",
   "metadata": {},
   "source": [
    "![Big Query Job Detail Screenshot](./images/bigquery_export.png)\n",
    "\n",
    "The total data volume of the archive from 2020-2025 is 21.57TB. When filtered to include only the projects handled by the Apache Software Foundation, the volume of the processed data went down 106.91 GB. With compression applied and the file format changed to parquet, the data copied over to the EC2 volume was 22 GB."
   ]
  },
  {
   "cell_type": "code",
   "execution_count": 10,
   "id": "8985bcbf-40d5-4b18-abeb-14c6d2ef1983",
   "metadata": {},
   "outputs": [
    {
     "name": "stdout",
     "output_type": "stream",
     "text": [
      "22G\t./data\n"
     ]
    }
   ],
   "source": [
    "!du -sh ./data"
   ]
  },
  {
   "cell_type": "code",
   "execution_count": null,
   "id": "4eadfa5c-ee9b-4eca-8896-ff5a35974578",
   "metadata": {},
   "outputs": [],
   "source": [
    "!du -sh ./*"
   ]
  },
  {
   "cell_type": "code",
   "execution_count": null,
   "id": "7b23a7b4",
   "metadata": {},
   "outputs": [],
   "source": []
  }
 ],
 "metadata": {
  "kernelspec": {
   "display_name": "Python 3 (ipykernel)",
   "language": "python",
   "name": "python3"
  },
  "language_info": {
   "codemirror_mode": {
    "name": "ipython",
    "version": 3
   },
   "file_extension": ".py",
   "mimetype": "text/x-python",
   "name": "python",
   "nbconvert_exporter": "python",
   "pygments_lexer": "ipython3",
   "version": "3.13.2"
  }
 },
 "nbformat": 4,
 "nbformat_minor": 5
}
